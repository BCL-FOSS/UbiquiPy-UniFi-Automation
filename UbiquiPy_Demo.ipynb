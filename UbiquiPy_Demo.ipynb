{
 "cells": [
  {
   "cell_type": "code",
   "execution_count": null,
   "id": "364790d3-637b-41e3-b721-caf52e3c442c",
   "metadata": {},
   "outputs": [],
   "source": [
    "#UbiquiPy Automation Framework Demo\n",
    "#From Baugh Consulting & Lab L.L.C."
   ]
  },
  {
   "cell_type": "code",
   "execution_count": 1,
   "id": "fd7d90c1-ab7f-4231-9c11-016c7286f1ea",
   "metadata": {},
   "outputs": [],
   "source": [
    "from models.UniFiNetAPI import UniFiNetAPI"
   ]
  },
  {
   "cell_type": "code",
   "execution_count": 2,
   "id": "16d5c843-42fc-4183-a9e0-31ca3e2fed29",
   "metadata": {},
   "outputs": [],
   "source": [
    "def network_admin(hostname='', port='', username='', password=''):\n",
    "        ubnt_controller = UniFiNetAPI(controller_ip=hostname, controller_port=port, username=username, password=password)\n",
    "        status = ubnt_controller.authenticate()\n",
    "        print(status)\n",
    "        return ubnt_controller"
   ]
  },
  {
   "cell_type": "code",
   "execution_count": null,
   "id": "9739a91d-53f3-45b3-85cc-cd200ddf9283",
   "metadata": {},
   "outputs": [],
   "source": [
    "#Easily authenticate with your self-hosted UniFi Controller or Cloud Gateway (set is_udm=True to enable)"
   ]
  },
  {
   "cell_type": "code",
   "execution_count": 3,
   "id": "746ee702-df47-4cb0-b42b-cb338a94d107",
   "metadata": {},
   "outputs": [
    {
     "name": "stdout",
     "output_type": "stream",
     "text": [
      "Authentication successful!\n",
      "200\n"
     ]
    }
   ],
   "source": [
    "ubnt_controller = network_admin(hostname='ubntdemo.netifidash.io', port='8443', username='ubnt_mon', password='!WorkingMuscle365!@')"
   ]
  },
  {
   "cell_type": "code",
   "execution_count": null,
   "id": "92fae924-f868-43e7-ada3-5b074ab071d3",
   "metadata": {},
   "outputs": [],
   "source": [
    "#Retrieve controller health data"
   ]
  },
  {
   "cell_type": "code",
   "execution_count": 4,
   "id": "165058f8-1516-48ee-812f-64db9cb091b3",
   "metadata": {},
   "outputs": [
    {
     "name": "stdout",
     "output_type": "stream",
     "text": [
      "Empty payload\n"
     ]
    },
    {
     "data": {
      "text/plain": [
       "[{'subsystem': 'wlan',\n",
       "  'status': 'unknown',\n",
       "  'num_ap': 0,\n",
       "  'num_adopted': 0,\n",
       "  'num_disabled': 0,\n",
       "  'num_disconnected': 0,\n",
       "  'num_pending': 0},\n",
       " {'subsystem': 'wan',\n",
       "  'num_gw': 0,\n",
       "  'num_adopted': 0,\n",
       "  'num_disconnected': 0,\n",
       "  'num_pending': 0,\n",
       "  'status': 'unknown'},\n",
       " {'subsystem': 'www', 'status': 'unknown'},\n",
       " {'subsystem': 'lan',\n",
       "  'status': 'unknown',\n",
       "  'num_sw': 0,\n",
       "  'num_adopted': 0,\n",
       "  'num_disconnected': 0,\n",
       "  'num_pending': 0},\n",
       " {'subsystem': 'vpn', 'status': 'unknown'}]"
      ]
     },
     "execution_count": 4,
     "metadata": {},
     "output_type": "execute_result"
    }
   ],
   "source": [
    "ubnt_controller.controller_health_data()"
   ]
  },
  {
   "cell_type": "code",
   "execution_count": null,
   "id": "b59a22e2-21f9-4b04-80d3-b1dfeaf1d604",
   "metadata": {},
   "outputs": [],
   "source": [
    "#Add sites to UniFi Network Controller programatically"
   ]
  },
  {
   "cell_type": "code",
   "execution_count": 6,
   "id": "07c99ee7-e51c-49be-ab95-60533d569a87",
   "metadata": {},
   "outputs": [
    {
     "name": "stdout",
     "output_type": "stream",
     "text": [
      "Empty payload\n"
     ]
    },
    {
     "data": {
      "text/plain": [
       "[{'anonymous_id': '35fd870c-a9a4-4b9f-903d-ed1b37a59d35',\n",
       "  'name': 'devops',\n",
       "  'desc': 'devopsnet',\n",
       "  '_id': '66a4da1f0c6c342a149a98c8'}]"
      ]
     },
     "execution_count": 6,
     "metadata": {},
     "output_type": "execute_result"
    }
   ],
   "source": [
    "ubnt_controller.mgr_sites(name='DevOps', desc='devopsnet', cmd='a')"
   ]
  },
  {
   "cell_type": "code",
   "execution_count": null,
   "id": "42bc4019-bf4f-4b7b-a129-f7eb80a57997",
   "metadata": {},
   "outputs": [],
   "source": [
    "#Unathorize session with dedicated sign_out() function"
   ]
  },
  {
   "cell_type": "code",
   "execution_count": 7,
   "id": "702c43a9-080a-41d5-ab62-c8462af14148",
   "metadata": {},
   "outputs": [
    {
     "name": "stdout",
     "output_type": "stream",
     "text": [
      "Empty payload\n",
      "{'data': [], 'meta': {'rc': 'ok'}}\n"
     ]
    }
   ],
   "source": [
    "ubnt_controller.sign_out()"
   ]
  },
  {
   "cell_type": "code",
   "execution_count": null,
   "id": "d9eac5da-ae60-418a-a708-ac5cc931dfd1",
   "metadata": {},
   "outputs": [],
   "source": []
  }
 ],
 "metadata": {
  "kernelspec": {
   "display_name": "Python 3 (ipykernel)",
   "language": "python",
   "name": "python3"
  },
  "language_info": {
   "codemirror_mode": {
    "name": "ipython",
    "version": 3
   },
   "file_extension": ".py",
   "mimetype": "text/x-python",
   "name": "python",
   "nbconvert_exporter": "python",
   "pygments_lexer": "ipython3",
   "version": "3.10.14"
  }
 },
 "nbformat": 4,
 "nbformat_minor": 5
}
